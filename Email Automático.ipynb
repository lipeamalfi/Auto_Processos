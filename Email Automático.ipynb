{
 "cells": [
  {
   "cell_type": "markdown",
   "metadata": {},
   "source": [
    "## Encaminhando um anexo automático para diferentes destinatários"
   ]
  },
  {
   "cell_type": "markdown",
   "metadata": {},
   "source": [
    "Importando as bibliotecas"
   ]
  },
  {
   "cell_type": "code",
   "execution_count": 5,
   "metadata": {},
   "outputs": [],
   "source": [
    "import os, json\n",
    "import pandas as pd\n",
    "import win32com.client\n",
    "from datetime import datetime, timedelta\n",
    "from pathlib import Path"
   ]
  },
  {
   "cell_type": "markdown",
   "metadata": {},
   "source": [
    "Definindo a função e criando a conexão com o outlook"
   ]
  },
  {
   "cell_type": "code",
   "execution_count": 6,
   "metadata": {},
   "outputs": [],
   "source": [
    "def aviso(lista,tema,msg,anexo):\n",
    "    outlook = win32com.client.Dispatch('outlook.application')\n",
    "    email = outlook.CreateItem(0)\n",
    "    email.To = lista\n",
    "    email.Subject = tema\n",
    "    email.HTMLBody = msg \n",
    "    email.Attachments.Add(anexo)\n",
    "    email.send\n"
   ]
  },
  {
   "cell_type": "markdown",
   "metadata": {},
   "source": [
    "Requisitando o arquivo que contém a lista de e-mails e nomes dos destinatários"
   ]
  },
  {
   "cell_type": "code",
   "execution_count": 7,
   "metadata": {},
   "outputs": [],
   "source": [
    "source_file = 'arquivo.xlsx'\n",
    "df = pd.read_excel(source_file)\n",
    "df1 = df['Email'].to_list()\n",
    "df2 = df['Nomes']\n",
    "lista = df1\n"
   ]
  },
  {
   "cell_type": "markdown",
   "metadata": {},
   "source": [
    "Anexando o documento que será encaminhado para os destinatários e criando um looping de e-mails automáticos individuais"
   ]
  },
  {
   "cell_type": "code",
   "execution_count": 8,
   "metadata": {},
   "outputs": [],
   "source": [
    "for a in range(len(lista)):\n",
    "    tema = 'Teste'\n",
    "    msg =  'Prezado {}!</p> OI'.format(df2[a])\n",
    "   # 'Prezado,'+ ' ' + df2[a]+'!' + \\n\\r + 'Estamos testando esse e-mail automático'\n",
    "    anexo = source_file\n",
    "    aviso(lista[a],tema,msg,anexo)"
   ]
  }
 ],
 "metadata": {
  "kernelspec": {
   "display_name": "Python 3 (ipykernel)",
   "language": "python",
   "name": "python3"
  },
  "language_info": {
   "codemirror_mode": {
    "name": "ipython",
    "version": 3
   },
   "file_extension": ".py",
   "mimetype": "text/x-python",
   "name": "python",
   "nbconvert_exporter": "python",
   "pygments_lexer": "ipython3",
   "version": "3.9.12"
  },
  "vscode": {
   "interpreter": {
    "hash": "fe77faa45070a1873ea218c84b5ece48d1ea15cf027e058237a631c85592a824"
   }
  }
 },
 "nbformat": 4,
 "nbformat_minor": 2
}
